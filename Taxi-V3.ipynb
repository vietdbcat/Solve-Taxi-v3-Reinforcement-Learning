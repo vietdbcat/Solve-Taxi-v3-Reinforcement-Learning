{
 "cells": [
  {
   "cell_type": "markdown",
   "id": "4bd0d0da",
   "metadata": {},
   "source": [
    "Implementation\n",
    "Installing gym, cmake and pygame is required\n",
    "OpenAI gym has the exactly environment we need, it is called \"Taxi-v3\""
   ]
  },
  {
   "cell_type": "code",
   "execution_count": 1,
   "id": "d1e93a37",
   "metadata": {},
   "outputs": [],
   "source": [
    "# !pip install cmake\n",
    "# !pip install pygame\n",
    "# !pip install gym[atari]"
   ]
  },
  {
   "cell_type": "markdown",
   "id": "cd302f83",
   "metadata": {},
   "source": [
    "Import library"
   ]
  },
  {
   "cell_type": "code",
   "execution_count": 2,
   "id": "46d546c2",
   "metadata": {
    "scrolled": true
   },
   "outputs": [],
   "source": [
    "import gym\n",
    "import numpy as np\n",
    "import random\n",
    "from IPython.display import clear_output\n",
    "from tqdm import tqdm\n",
    "from time import sleep"
   ]
  },
  {
   "cell_type": "markdown",
   "id": "028fd833",
   "metadata": {},
   "source": [
    "Build emvironment by call Taxi-v3 in gym library"
   ]
  },
  {
   "cell_type": "code",
   "execution_count": 3,
   "id": "bf50e685",
   "metadata": {
    "scrolled": true
   },
   "outputs": [],
   "source": [
    "env = gym.make('Taxi-v3').env"
   ]
  },
  {
   "cell_type": "markdown",
   "id": "1ff435bc",
   "metadata": {},
   "source": [
    "Some example to show how taxi-v3 work"
   ]
  },
  {
   "cell_type": "code",
   "execution_count": 4,
   "id": "95375818",
   "metadata": {
    "scrolled": false
   },
   "outputs": [
    {
     "name": "stdout",
     "output_type": "stream",
     "text": [
      "+---------+\n",
      "|R: | : :\u001b[34;1mG\u001b[0m|\n",
      "| : | :\u001b[43m \u001b[0m: |\n",
      "| : : : : |\n",
      "| | : | : |\n",
      "|\u001b[35mY\u001b[0m| : |B: |\n",
      "+---------+\n",
      "\n"
     ]
    }
   ],
   "source": [
    "env.reset() # get random state\n",
    "env.render()"
   ]
  },
  {
   "cell_type": "code",
   "execution_count": 5,
   "id": "24f013d3",
   "metadata": {},
   "outputs": [
    {
     "data": {
      "text/plain": [
       "{0: [(1.0, 428, -1, False)],\n",
       " 1: [(1.0, 228, -1, False)],\n",
       " 2: [(1.0, 348, -1, False)],\n",
       " 3: [(1.0, 328, -1, False)],\n",
       " 4: [(1.0, 328, -10, False)],\n",
       " 5: [(1.0, 328, -10, False)]}"
      ]
     },
     "metadata": {},
     "output_type": "display_data"
    }
   ],
   "source": [
    "display(env.P[328]) # reward table\n",
    "#From left to right: [(probability, nextstate, reward, done)]"
   ]
  },
  {
   "cell_type": "code",
   "execution_count": 6,
   "id": "ff5bbdb6",
   "metadata": {},
   "outputs": [],
   "source": [
    "# function use to show the frame that discribes how the taxi work\n",
    "def print_frames(frames):\n",
    "    for i, frame in enumerate(frames):\n",
    "        clear_output(wait=True)\n",
    "        \n",
    "#         print(f\"Sample: {x}\")\n",
    "        \n",
    "        print(frame['frame'])\n",
    "        print(f\"Timestep: {i + 1}\")\n",
    "        print(f\"State: {frame['state']}\")\n",
    "        print(f\"Action: {frame['action']}\")\n",
    "        print(f\"Reward: {frame['reward']}\")\n",
    "        print(f\"Done: {frame['done']}\")\n",
    "        sleep(0)# increase 0 to print frames slower"
   ]
  },
  {
   "cell_type": "markdown",
   "id": "90f1f948",
   "metadata": {},
   "source": [
    "Now let's make a function that will give a random move, break when completed."
   ]
  },
  {
   "cell_type": "code",
   "execution_count": 7,
   "id": "8937aa11",
   "metadata": {},
   "outputs": [
    {
     "name": "stdout",
     "output_type": "stream",
     "text": [
      "Timesteps taken: 240\n",
      "Penalties incurred: 81\n"
     ]
    }
   ],
   "source": [
    "env.s = 328  # set environment to illustration's state\n",
    "\n",
    "epochs = 0\n",
    "penalties, reward = 0, 0\n",
    "\n",
    "frames = [] # for animation\n",
    "\n",
    "done = False\n",
    "\n",
    "while not done:\n",
    "    action = env.action_space.sample()\n",
    "    state, reward, done, info = env.step(action)\n",
    "\n",
    "    if reward == -10:\n",
    "        penalties += 1\n",
    "    \n",
    "    # Put each rendered frame into dict for animation\n",
    "    frames.append({\n",
    "        'frame': env.render(mode='ansi'),\n",
    "        'state': state,\n",
    "        'action': action,\n",
    "        'reward': reward,\n",
    "        'done': done\n",
    "        }\n",
    "    )\n",
    "\n",
    "    epochs += 1\n",
    "    \n",
    "    \n",
    "print(\"Timesteps taken: {}\".format(epochs))\n",
    "print(\"Penalties incurred: {}\".format(penalties))"
   ]
  },
  {
   "cell_type": "code",
   "execution_count": 8,
   "id": "a6451db3",
   "metadata": {},
   "outputs": [
    {
     "name": "stdout",
     "output_type": "stream",
     "text": [
      "+---------+\n",
      "|\u001b[35m\u001b[34;1m\u001b[43mR\u001b[0m\u001b[0m\u001b[0m: | : :G|\n",
      "| : | : : |\n",
      "| : : : : |\n",
      "| | : | : |\n",
      "|Y| : |B: |\n",
      "+---------+\n",
      "  (Dropoff)\n",
      "\n",
      "Timestep: 240\n",
      "State: 0\n",
      "Action: 5\n",
      "Reward: 20\n",
      "Done: True\n"
     ]
    }
   ],
   "source": [
    "print_frames(frames)"
   ]
  },
  {
   "cell_type": "markdown",
   "id": "579fc891",
   "metadata": {},
   "source": [
    "Training Q table"
   ]
  },
  {
   "cell_type": "code",
   "execution_count": 9,
   "id": "9fc2750f",
   "metadata": {},
   "outputs": [
    {
     "name": "stdout",
     "output_type": "stream",
     "text": [
      "alpha = 0.8422045099733166 và gamma = 0.7423951992359493 và epsilon = 0.1\n"
     ]
    },
    {
     "name": "stderr",
     "output_type": "stream",
     "text": [
      "100%|\u001b[34m██████████████████████████████████████████████████████████████████████████\u001b[0m| 80000/80000 [00:25<00:00, 3157.48it/s]\u001b[0m"
     ]
    },
    {
     "name": "stdout",
     "output_type": "stream",
     "text": [
      "Training finished.\n",
      "\n"
     ]
    },
    {
     "name": "stderr",
     "output_type": "stream",
     "text": [
      "\n"
     ]
    }
   ],
   "source": [
    "# %%time\n",
    "# \"\"\"Training the agent\"\"\"\n",
    "def training_Qtable():    \n",
    "    q_table = np.zeros([env.observation_space.n, env.action_space.n])\n",
    "\n",
    "    # Picking up hyperparameters, you can use random.uniform(0, 1) instead\n",
    "    alpha = random.random()\n",
    "    gamma = random.random()\n",
    "    epsilon = 0.1\n",
    "    \n",
    "    print(f\"alpha = {alpha} và gamma = {gamma} và epsilon = {epsilon}\")\n",
    "\n",
    "    # For plotting metrics\n",
    "    all_epochs = []\n",
    "    all_penalties = []\n",
    "\n",
    "    for i in tqdm(range(1, 80001), colour = 'BLUE'):\n",
    "        state = env.reset()\n",
    "\n",
    "        epochs, penalties, reward, = 0, 0, 0\n",
    "        done = False\n",
    "\n",
    "        while not done:\n",
    "            # Determind what to do next\n",
    "\n",
    "            if random.uniform(0, 1) < epsilon:\n",
    "                action = env.action_space.sample() # Explore action space\n",
    "                # env.action_space.sample() automatically selects one random action from set of all possible actions.\n",
    "            else:\n",
    "                action = np.argmax(q_table[state]) # Exploit learned values\n",
    "                # Returning a state with the highest score.\n",
    "\n",
    "            # Simulating the next action\n",
    "\n",
    "            next_state, reward, done, info = env.step(action) \n",
    "\n",
    "            # Calculation using above equation\n",
    "\n",
    "            old_value = q_table[state, action]\n",
    "            next_max = np.max(q_table[next_state])\n",
    "\n",
    "            new_value = (1 - alpha) * old_value + alpha * (reward + gamma * next_max)\n",
    "            q_table[state, action] = new_value\n",
    "\n",
    "            # Determind if we have a big penalty\n",
    "\n",
    "            if reward == -10:\n",
    "                penalties += 1\n",
    "\n",
    "            # Moving to the next state\n",
    "\n",
    "            state = next_state\n",
    "            epochs += 1\n",
    "\n",
    "    print(\"Training finished.\\n\")\n",
    "    return q_table\n",
    "\n",
    "q_table = training_Qtable()    "
   ]
  },
  {
   "cell_type": "markdown",
   "id": "d155d80b",
   "metadata": {},
   "source": [
    "Strategy function"
   ]
  },
  {
   "cell_type": "code",
   "execution_count": 10,
   "id": "2d4fbe65",
   "metadata": {},
   "outputs": [],
   "source": [
    "frames = [] # for animation\n",
    "location = {'R' : 0, 'G' : 1, 'Y' : 2, 'B' : 3}\n",
    "R, G, Y, B = 'R', 'G', 'Y', 'B'\n",
    "def strategy(x, y, passenger, destination):\n",
    "    env.s = env.encode(x, y, location[passenger], location[destination])  # set environment\n",
    "    \n",
    "    frames.clear()\n",
    "    result = []\n",
    "    \n",
    "    print(f\"Taxi's position = ({x},{y})\")\n",
    "    print(\"Passenger: \" + passenger)\n",
    "    print(\"Destination: \" + destination)\n",
    "    \n",
    "    step, reward = 0, 0\n",
    "    \n",
    "    done = False\n",
    "\n",
    "    while not done:\n",
    "        if (q_table[env.s] == 0.).all():\n",
    "            break\n",
    "        \n",
    "        action = np.where(q_table[env.s] == q_table[env.s].max())[0][0]\n",
    "        state, r, done, info = env.step(action)\n",
    "        \n",
    "        reward += r\n",
    "        \n",
    "        # Save action list\n",
    "        result.append(action) \n",
    "        \n",
    "        # Put each rendered frame into dict for animation\n",
    "        frames.append({\n",
    "            'frame' : env.render(mode='ansi'),\n",
    "            'action': action,\n",
    "            'reward': reward,\n",
    "            'state' : state,\n",
    "            'done'  : done\n",
    "        })\n",
    "\n",
    "        step += 1\n",
    "\n",
    "    print(\"Steps taken: {}\".format(step))\n",
    "    print(\"Result = {}\".format(result))\n",
    "    \n",
    "    if len(frames) == 0:\n",
    "        state, reward, done, info = env.step(5)\n",
    "        frames.append({\n",
    "            'frame' : env.render(mode='ansi'),\n",
    "            'action': 5,\n",
    "            'reward': 0,\n",
    "            'state' : state,\n",
    "            'done'  : True\n",
    "        })\n",
    "    \n",
    "    return result"
   ]
  },
  {
   "cell_type": "markdown",
   "id": "67091a53",
   "metadata": {},
   "source": [
    "Now let's check the result"
   ]
  },
  {
   "cell_type": "code",
   "execution_count": 11,
   "id": "a18b52c8",
   "metadata": {},
   "outputs": [
    {
     "name": "stdout",
     "output_type": "stream",
     "text": [
      "Sample 0\n",
      "[3, 4, 'G', 'G']\n",
      "Taxi's position = (3,4)\n",
      "Passenger: G\n",
      "Destination: G\n",
      "Steps taken: 0\n",
      "Result = []\n",
      "Reward: 0\n",
      "\n",
      "Sample 1\n",
      "[2, 0, 'R', 'G']\n",
      "Taxi's position = (2,0)\n",
      "Passenger: R\n",
      "Destination: G\n",
      "Steps taken: 12\n",
      "Result = [1, 1, 4, 0, 0, 2, 2, 1, 1, 2, 2, 5]\n",
      "Reward: 9\n",
      "\n",
      "Sample 2\n",
      "[1, 3, 'R', 'R']\n",
      "Taxi's position = (1,3)\n",
      "Passenger: R\n",
      "Destination: R\n",
      "Steps taken: 0\n",
      "Result = []\n",
      "Reward: 0\n",
      "\n",
      "Sample 3\n",
      "[3, 2, 'Y', 'R']\n",
      "Taxi's position = (3,2)\n",
      "Passenger: Y\n",
      "Destination: R\n",
      "Steps taken: 11\n",
      "Result = [1, 3, 3, 0, 0, 4, 1, 1, 1, 1, 5]\n",
      "Reward: 10\n",
      "\n",
      "Sample 4\n",
      "[1, 4, 'B', 'G']\n",
      "Taxi's position = (1,4)\n",
      "Passenger: B\n",
      "Destination: G\n",
      "Steps taken: 11\n",
      "Result = [0, 0, 0, 3, 4, 1, 1, 1, 1, 2, 5]\n",
      "Reward: 10\n",
      "\n",
      "Sample 5\n",
      "[1, 3, 'B', 'R']\n",
      "Taxi's position = (1,3)\n",
      "Passenger: B\n",
      "Destination: R\n",
      "Steps taken: 12\n",
      "Result = [0, 0, 0, 4, 1, 1, 3, 3, 1, 1, 3, 5]\n",
      "Reward: 9\n",
      "\n",
      "Sample 6\n",
      "[0, 0, 'R', 'G']\n",
      "Taxi's position = (0,0)\n",
      "Passenger: R\n",
      "Destination: G\n",
      "Steps taken: 10\n",
      "Result = [4, 0, 0, 2, 2, 1, 1, 2, 2, 5]\n",
      "Reward: 11\n",
      "\n",
      "Sample 7\n",
      "[0, 0, 'G', 'Y']\n",
      "Taxi's position = (0,0)\n",
      "Passenger: G\n",
      "Destination: Y\n",
      "Steps taken: 18\n",
      "Result = [2, 0, 0, 2, 1, 1, 2, 2, 4, 0, 0, 3, 3, 3, 3, 0, 0, 5]\n",
      "Reward: 3\n",
      "\n",
      "Sample 8\n",
      "[4, 2, 'R', 'R']\n",
      "Taxi's position = (4,2)\n",
      "Passenger: R\n",
      "Destination: R\n",
      "Steps taken: 0\n",
      "Result = []\n",
      "Reward: 0\n",
      "\n",
      "Sample 9\n",
      "[0, 2, 'B', 'R']\n",
      "Taxi's position = (0,2)\n",
      "Passenger: B\n",
      "Destination: R\n",
      "Steps taken: 14\n",
      "Result = [2, 0, 0, 0, 0, 4, 1, 1, 3, 3, 1, 1, 3, 5]\n",
      "Reward: 7\n",
      "\n"
     ]
    }
   ],
   "source": [
    "sample = []\n",
    "f = [R,G,Y,B]\n",
    "w = []\n",
    "for x in range(0,10):    \n",
    "    x_taxi = random.randint(0,4)\n",
    "    y_taxi = random.randint(0,4)\n",
    "    passenger = random.choice(f)\n",
    "    destination = random.choice(f)\n",
    "    \n",
    "    #check if passenger and destination is the same\n",
    "#     while passenger == destination:\n",
    "#         destination = random.randint(0,3)\n",
    "\n",
    "    sample.append([x_taxi, y_taxi, passenger, destination])\n",
    "\n",
    "i = 0\n",
    "for x in sample:\n",
    "    print(f\"Sample {i}\")\n",
    "    print(x)\n",
    "    i+=1\n",
    "    result = strategy(x[0], x[1], x[2], x[3])\n",
    "    print(f\"Reward: {frames[len(frames)-1]['reward']}\")\n",
    "    print()"
   ]
  },
  {
   "cell_type": "code",
   "execution_count": 12,
   "id": "6ecc5c6a",
   "metadata": {},
   "outputs": [
    {
     "name": "stdout",
     "output_type": "stream",
     "text": [
      "Taxi's position = (3,4)\n",
      "Passenger: G\n",
      "Destination: B\n",
      "Steps taken: 10\n",
      "Result = [1, 1, 1, 4, 0, 0, 0, 0, 3, 5]\n",
      "Reward: 11\n"
     ]
    }
   ],
   "source": [
    "x_taxi = random.randint(0,4)\n",
    "y_taxi = random.randint(0,4)\n",
    "passenger = random.choice(f)\n",
    "destination = random.choice(f)\n",
    "result = strategy(x_taxi, y_taxi, passenger, destination)\n",
    "print(f\"Reward: {frames[len(frames)-1]['reward']}\")"
   ]
  },
  {
   "cell_type": "code",
   "execution_count": 13,
   "id": "9e542135",
   "metadata": {},
   "outputs": [
    {
     "name": "stdout",
     "output_type": "stream",
     "text": [
      "Taxi's position = (4,4)\n",
      "Passenger: Y\n",
      "Destination: B\n",
      "Steps taken: 17\n",
      "Result = [1, 1, 3, 3, 3, 3, 0, 0, 4, 1, 1, 2, 2, 2, 0, 0, 5]\n",
      "Reward: 4\n"
     ]
    }
   ],
   "source": [
    "result = strategy(4,4,Y,B)\n",
    "print(f\"Reward: {frames[len(frames)-1]['reward']}\")"
   ]
  },
  {
   "cell_type": "markdown",
   "id": "9d877f33",
   "metadata": {},
   "source": [
    "Call print_frames function to show frames that discribes how the taxi take the passenger. "
   ]
  },
  {
   "cell_type": "code",
   "execution_count": 14,
   "id": "f03c8076",
   "metadata": {
    "scrolled": true
   },
   "outputs": [
    {
     "name": "stdout",
     "output_type": "stream",
     "text": [
      "+---------+\n",
      "|R: | : :G|\n",
      "| : | : : |\n",
      "| : : : : |\n",
      "| | : | : |\n",
      "|Y| : |\u001b[35m\u001b[34;1m\u001b[43mB\u001b[0m\u001b[0m\u001b[0m: |\n",
      "+---------+\n",
      "  (Dropoff)\n",
      "\n",
      "Timestep: 17\n",
      "State: 475\n",
      "Action: 5\n",
      "Reward: 4\n",
      "Done: True\n"
     ]
    }
   ],
   "source": [
    "print_frames(frames)"
   ]
  },
  {
   "cell_type": "code",
   "execution_count": null,
   "id": "d8ac29d2",
   "metadata": {},
   "outputs": [],
   "source": []
  }
 ],
 "metadata": {
  "kernelspec": {
   "display_name": "Python 3 (ipykernel)",
   "language": "python",
   "name": "python3"
  },
  "language_info": {
   "codemirror_mode": {
    "name": "ipython",
    "version": 3
   },
   "file_extension": ".py",
   "mimetype": "text/x-python",
   "name": "python",
   "nbconvert_exporter": "python",
   "pygments_lexer": "ipython3",
   "version": "3.10.8"
  }
 },
 "nbformat": 4,
 "nbformat_minor": 5
}
